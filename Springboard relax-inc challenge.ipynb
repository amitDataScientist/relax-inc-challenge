{
 "cells": [
  {
   "cell_type": "markdown",
   "metadata": {},
   "source": [
    "# Springboard Relax Challenge\n",
    "Defining an \"adopted user\" as a user who has logged into the product on three separate days in at least one sevenday period, identify which factors predict future user adoption."
   ]
  },
  {
   "cell_type": "code",
   "execution_count": 1,
   "metadata": {},
   "outputs": [],
   "source": [
    "import pandas as pd\n",
    "import numpy as np\n",
    "import datetime as dt"
   ]
  },
  {
   "cell_type": "code",
   "execution_count": 2,
   "metadata": {},
   "outputs": [],
   "source": [
    "# read user engagements\n",
    "takehome_user_engagement = pd.read_csv(\"takehome_user_engagement.csv\", parse_dates=['time_stamp'])"
   ]
  },
  {
   "cell_type": "markdown",
   "metadata": {},
   "source": [
    "There is a utf-8 decoding error while reading the second file"
   ]
  },
  {
   "cell_type": "code",
   "execution_count": 3,
   "metadata": {},
   "outputs": [
    {
     "name": "stdout",
     "output_type": "stream",
     "text": [
      "cp1252\n"
     ]
    }
   ],
   "source": [
    "# check encoding\n",
    "with open(\"takehome_users.csv\") as f:\n",
    "    print(f.encoding)"
   ]
  },
  {
   "cell_type": "code",
   "execution_count": 4,
   "metadata": {},
   "outputs": [],
   "source": [
    "# reread users with alternate encoding and prevent scientifc notation for last_session_creation_time\n",
    "takehome_users = pd.read_csv(\"takehome_users.csv\", parse_dates=['creation_time', 'last_session_creation_time'], encoding = \"cp1252\")"
   ]
  },
  {
   "cell_type": "code",
   "execution_count": 5,
   "metadata": {},
   "outputs": [
    {
     "name": "stdout",
     "output_type": "stream",
     "text": [
      "<class 'pandas.core.frame.DataFrame'>\n",
      "RangeIndex: 207917 entries, 0 to 207916\n",
      "Data columns (total 3 columns):\n",
      " #   Column      Non-Null Count   Dtype         \n",
      "---  ------      --------------   -----         \n",
      " 0   time_stamp  207917 non-null  datetime64[ns]\n",
      " 1   user_id     207917 non-null  int64         \n",
      " 2   visited     207917 non-null  int64         \n",
      "dtypes: datetime64[ns](1), int64(2)\n",
      "memory usage: 4.8 MB\n"
     ]
    }
   ],
   "source": [
    "takehome_user_engagement.info()"
   ]
  },
  {
   "cell_type": "code",
   "execution_count": 6,
   "metadata": {},
   "outputs": [
    {
     "name": "stdout",
     "output_type": "stream",
     "text": [
      "<class 'pandas.core.frame.DataFrame'>\n",
      "RangeIndex: 12000 entries, 0 to 11999\n",
      "Data columns (total 10 columns):\n",
      " #   Column                      Non-Null Count  Dtype         \n",
      "---  ------                      --------------  -----         \n",
      " 0   object_id                   12000 non-null  int64         \n",
      " 1   creation_time               12000 non-null  datetime64[ns]\n",
      " 2   name                        12000 non-null  object        \n",
      " 3   email                       12000 non-null  object        \n",
      " 4   creation_source             12000 non-null  object        \n",
      " 5   last_session_creation_time  8823 non-null   object        \n",
      " 6   opted_in_to_mailing_list    12000 non-null  int64         \n",
      " 7   enabled_for_marketing_drip  12000 non-null  int64         \n",
      " 8   org_id                      12000 non-null  int64         \n",
      " 9   invited_by_user_id          6417 non-null   float64       \n",
      "dtypes: datetime64[ns](1), float64(1), int64(4), object(4)\n",
      "memory usage: 937.6+ KB\n"
     ]
    }
   ],
   "source": [
    "takehome_users.info()"
   ]
  },
  {
   "cell_type": "code",
   "execution_count": 7,
   "metadata": {},
   "outputs": [],
   "source": [
    "# Convert invited_by_user_id to int64 to match engagements\n",
    "takehome_users['invited_by_user_id'] = takehome_users['invited_by_user_id'].fillna(0)\n",
    "takehome_users.invited_by_user_id = takehome_users.invited_by_user_id.astype(int)"
   ]
  },
  {
   "cell_type": "markdown",
   "metadata": {},
   "source": [
    "## Exploratory Data Analysis\n",
    "takehome user engagement"
   ]
  },
  {
   "cell_type": "code",
   "execution_count": 8,
   "metadata": {},
   "outputs": [
    {
     "name": "stdout",
     "output_type": "stream",
     "text": [
      "2012-05-31 08:20:06\n",
      "2014-06-06 14:58:50\n"
     ]
    }
   ],
   "source": [
    "print(takehome_user_engagement.time_stamp.min())\n",
    "print(takehome_user_engagement.time_stamp.max())"
   ]
  },
  {
   "cell_type": "code",
   "execution_count": 9,
   "metadata": {},
   "outputs": [],
   "source": [
    "takehome_user_engagement['date'] = takehome_user_engagement['time_stamp'].dt.date"
   ]
  },
  {
   "cell_type": "code",
   "execution_count": 10,
   "metadata": {},
   "outputs": [
    {
     "data": {
      "text/plain": [
       "<matplotlib.axes._subplots.AxesSubplot at 0x11cb2460>"
      ]
     },
     "execution_count": 10,
     "metadata": {},
     "output_type": "execute_result"
    },
    {
     "data": {
      "image/png": "[encoded data removed]",
      "text/plain": [
       "<Figure size 432x288 with 1 Axes>"
      ]
     },
     "metadata": {
      "needs_background": "light"
     },
     "output_type": "display_data"
    }
   ],
   "source": [
    "# Use trend by day\n",
    "takehome_user_engagement.groupby(['date'])['user_id'].count().plot(title=\"Activity per Day\")\n",
    "# [takehome_user_engagement.date < takehome_user_engagement.date.max()]"
   ]
  },
  {
   "cell_type": "code",
   "execution_count": 11,
   "metadata": {},
   "outputs": [
    {
     "data": {
      "text/plain": [
       "712"
      ]
     },
     "execution_count": 11,
     "metadata": {},
     "output_type": "execute_result"
    }
   ],
   "source": [
    "# Maximum users\n",
    "takehome_user_engagement.groupby(['date'])['user_id'].count().max()"
   ]
  },
  {
   "cell_type": "code",
   "execution_count": 12,
   "metadata": {},
   "outputs": [
    {
     "data": {
      "text/plain": [
       "<matplotlib.axes._subplots.AxesSubplot at 0x11db8820>"
      ]
     },
     "execution_count": 12,
     "metadata": {},
     "output_type": "execute_result"
    },
    {
     "data": {
      "image/png": "[encoded data removed]",
      "text/plain": [
       "<Figure size 432x288 with 1 Axes>"
      ]
     },
     "metadata": {
      "needs_background": "light"
     },
     "output_type": "display_data"
    }
   ],
   "source": [
    "# Last 20 dates\n",
    "takehome_user_engagement.groupby(['date'])['user_id'].count().tail(20).plot(title=\"Activity Last 20 Dates\")"
   ]
  },
  {
   "cell_type": "code",
   "execution_count": 13,
   "metadata": {},
   "outputs": [
    {
     "data": {
      "text/html": [
       "<div>\n",
       "<style scoped>\n",
       "    .dataframe tbody tr th:only-of-type {\n",
       "        vertical-align: middle;\n",
       "    }\n",
       "\n",
       "    .dataframe tbody tr th {\n",
       "        vertical-align: top;\n",
       "    }\n",
       "\n",
       "    .dataframe thead th {\n",
       "        text-align: right;\n",
       "    }\n",
       "</style>\n",
       "<table border=\"1\" class=\"dataframe\">\n",
       "  <thead>\n",
       "    <tr style=\"text-align: right;\">\n",
       "      <th></th>\n",
       "      <th>time_stamp</th>\n",
       "      <th>user_id</th>\n",
       "      <th>visited</th>\n",
       "      <th>date</th>\n",
       "    </tr>\n",
       "  </thead>\n",
       "  <tbody>\n",
       "    <tr>\n",
       "      <th>70763</th>\n",
       "      <td>2014-06-06 14:58:50</td>\n",
       "      <td>4051</td>\n",
       "      <td>1</td>\n",
       "      <td>2014-06-06</td>\n",
       "    </tr>\n",
       "  </tbody>\n",
       "</table>\n",
       "</div>"
      ],
      "text/plain": [
       "               time_stamp  user_id  visited        date\n",
       "70763 2014-06-06 14:58:50     4051        1  2014-06-06"
      ]
     },
     "execution_count": 13,
     "metadata": {},
     "output_type": "execute_result"
    }
   ],
   "source": [
    "# Last day index\n",
    "takehome_user_engagement[takehome_user_engagement['time_stamp'] >= '2014-06-06']"
   ]
  },
  {
   "cell_type": "code",
   "execution_count": 14,
   "metadata": {},
   "outputs": [],
   "source": [
    "# Drop last day with one user\n",
    "takehome_user_engagement.drop(takehome_user_engagement.index[70763], inplace=True)"
   ]
  },
  {
   "cell_type": "code",
   "execution_count": 15,
   "metadata": {},
   "outputs": [],
   "source": [
    "# Count user visits\n",
    "user_visit_count = takehome_user_engagement.groupby(['user_id'])['visited'].sum().to_frame()"
   ]
  },
  {
   "cell_type": "code",
   "execution_count": 16,
   "metadata": {},
   "outputs": [
    {
     "data": {
      "text/html": [
       "<div>\n",
       "<style scoped>\n",
       "    .dataframe tbody tr th:only-of-type {\n",
       "        vertical-align: middle;\n",
       "    }\n",
       "\n",
       "    .dataframe tbody tr th {\n",
       "        vertical-align: top;\n",
       "    }\n",
       "\n",
       "    .dataframe thead th {\n",
       "        text-align: right;\n",
       "    }\n",
       "</style>\n",
       "<table border=\"1\" class=\"dataframe\">\n",
       "  <thead>\n",
       "    <tr style=\"text-align: right;\">\n",
       "      <th></th>\n",
       "      <th>visited</th>\n",
       "    </tr>\n",
       "    <tr>\n",
       "      <th>user_id</th>\n",
       "      <th></th>\n",
       "    </tr>\n",
       "  </thead>\n",
       "  <tbody>\n",
       "    <tr>\n",
       "      <th>1</th>\n",
       "      <td>1</td>\n",
       "    </tr>\n",
       "    <tr>\n",
       "      <th>7318</th>\n",
       "      <td>1</td>\n",
       "    </tr>\n",
       "    <tr>\n",
       "      <th>7316</th>\n",
       "      <td>1</td>\n",
       "    </tr>\n",
       "    <tr>\n",
       "      <th>7315</th>\n",
       "      <td>1</td>\n",
       "    </tr>\n",
       "    <tr>\n",
       "      <th>7314</th>\n",
       "      <td>1</td>\n",
       "    </tr>\n",
       "    <tr>\n",
       "      <th>...</th>\n",
       "      <td>...</td>\n",
       "    </tr>\n",
       "    <tr>\n",
       "      <th>8068</th>\n",
       "      <td>585</td>\n",
       "    </tr>\n",
       "    <tr>\n",
       "      <th>7590</th>\n",
       "      <td>590</td>\n",
       "    </tr>\n",
       "    <tr>\n",
       "      <th>1811</th>\n",
       "      <td>593</td>\n",
       "    </tr>\n",
       "    <tr>\n",
       "      <th>906</th>\n",
       "      <td>600</td>\n",
       "    </tr>\n",
       "    <tr>\n",
       "      <th>3623</th>\n",
       "      <td>606</td>\n",
       "    </tr>\n",
       "  </tbody>\n",
       "</table>\n",
       "<p>8822 rows × 1 columns</p>\n",
       "</div>"
      ],
      "text/plain": [
       "         visited\n",
       "user_id         \n",
       "1              1\n",
       "7318           1\n",
       "7316           1\n",
       "7315           1\n",
       "7314           1\n",
       "...          ...\n",
       "8068         585\n",
       "7590         590\n",
       "1811         593\n",
       "906          600\n",
       "3623         606\n",
       "\n",
       "[8822 rows x 1 columns]"
      ]
     },
     "execution_count": 16,
     "metadata": {},
     "output_type": "execute_result"
    }
   ],
   "source": [
    "user_visit_count.sort_values(by='visited')"
   ]
  },
  {
   "cell_type": "code",
   "execution_count": 17,
   "metadata": {},
   "outputs": [
    {
     "data": {
      "text/plain": [
       "<matplotlib.axes._subplots.AxesSubplot at 0x4cfc130>"
      ]
     },
     "execution_count": 17,
     "metadata": {},
     "output_type": "execute_result"
    },
    {
     "data": {
      "image/png": "[encoded data removed]",
      "text/plain": [
       "<Figure size 432x288 with 1 Axes>"
      ]
     },
     "metadata": {
      "needs_background": "light"
     },
     "output_type": "display_data"
    }
   ],
   "source": [
    "user_visit_count.visited.plot(kind=\"hist\", bins=10, title=\"Frequency of Number of Visits\")"
   ]
  },
  {
   "cell_type": "code",
   "execution_count": 18,
   "metadata": {},
   "outputs": [
    {
     "data": {
      "text/plain": [
       "visited\n",
       "1     6234\n",
       "2      340\n",
       "3      241\n",
       "4      181\n",
       "5      110\n",
       "6       85\n",
       "7       68\n",
       "8       57\n",
       "9       48\n",
       "10      34\n",
       "11      26\n",
       "12      29\n",
       "13      29\n",
       "14      30\n",
       "15      13\n",
       "16      20\n",
       "17      18\n",
       "18      18\n",
       "19      12\n",
       "20      16\n",
       "Name: visited, dtype: int64"
      ]
     },
     "execution_count": 18,
     "metadata": {},
     "output_type": "execute_result"
    }
   ],
   "source": [
    "user_visit_count[user_visit_count.visited <= 20].groupby(['visited'])['visited'].count()"
   ]
  },
  {
   "cell_type": "code",
   "execution_count": 19,
   "metadata": {},
   "outputs": [
    {
     "name": "stdout",
     "output_type": "stream",
     "text": [
      "Pct of users who logged in once: 51.9%\n"
     ]
    }
   ],
   "source": [
    "print(\"Pct of users who logged in once: \"+\"{:.1%}\".format(6234/12000))"
   ]
  },
  {
   "cell_type": "code",
   "execution_count": 20,
   "metadata": {},
   "outputs": [
    {
     "name": "stdout",
     "output_type": "stream",
     "text": [
      "Pct of users who never logged in: 26.5%\n"
     ]
    }
   ],
   "source": [
    "print(\"Pct of users who never logged in: \"+\"{:.1%}\".format(1-len(user_visit_count) / len(takehome_users)))"
   ]
  },
  {
   "cell_type": "code",
   "execution_count": 21,
   "metadata": {},
   "outputs": [
    {
     "name": "stdout",
     "output_type": "stream",
     "text": [
      "visited    23.567898\n",
      "dtype: float64\n",
      "visited    1.0\n",
      "dtype: float64\n"
     ]
    }
   ],
   "source": [
    "print(user_visit_count.mean())\n",
    "print(user_visit_count.median())"
   ]
  },
  {
   "cell_type": "code",
   "execution_count": 22,
   "metadata": {},
   "outputs": [
    {
     "data": {
      "text/plain": [
       "invited_by_user_id\n",
       "5885        1\n",
       "6123        1\n",
       "6110        1\n",
       "6101        1\n",
       "6083        1\n",
       "         ... \n",
       "11770      11\n",
       "1525       11\n",
       "2527       12\n",
       "10741      13\n",
       "0        5583\n",
       "Name: invited_by_user_id, Length: 2565, dtype: int64"
      ]
     },
     "execution_count": 22,
     "metadata": {},
     "output_type": "execute_result"
    }
   ],
   "source": [
    "takehome_users.groupby(['invited_by_user_id'])['invited_by_user_id'].count().sort_values()"
   ]
  },
  {
   "cell_type": "code",
   "execution_count": 23,
   "metadata": {},
   "outputs": [
    {
     "name": "stdout",
     "output_type": "stream",
     "text": [
      "Users invited:  6417\n",
      "Pct users invited: 53.5%\n"
     ]
    }
   ],
   "source": [
    "print(\"Users invited: \", 12000-5583)\n",
    "print(\"Pct users invited: \"+\"{:.1%}\".format(1-5583/12000))"
   ]
  },
  {
   "cell_type": "code",
   "execution_count": 24,
   "metadata": {},
   "outputs": [
    {
     "data": {
      "text/plain": [
       "<matplotlib.axes._subplots.AxesSubplot at 0x110c6550>"
      ]
     },
     "execution_count": 24,
     "metadata": {},
     "output_type": "execute_result"
    },
    {
     "data": {
      "image/png": "[encoded data removed]",
      "text/plain": [
       "<Figure size 432x288 with 1 Axes>"
      ]
     },
     "metadata": {
      "needs_background": "light"
     },
     "output_type": "display_data"
    }
   ],
   "source": [
    "takehome_users.groupby(['creation_source'])['creation_source'].count().plot(kind=\"bar\", title=\"Creation Source Count\")"
   ]
  },
  {
   "cell_type": "code",
   "execution_count": 25,
   "metadata": {},
   "outputs": [
    {
     "data": {
      "text/plain": [
       "org_id\n",
       "416      2\n",
       "386      7\n",
       "397      8\n",
       "400      8\n",
       "355      9\n",
       "      ... \n",
       "4      159\n",
       "3      168\n",
       "2      201\n",
       "1      233\n",
       "0      319\n",
       "Name: org_id, Length: 417, dtype: int64"
      ]
     },
     "execution_count": 25,
     "metadata": {},
     "output_type": "execute_result"
    }
   ],
   "source": [
    "takehome_users.groupby(['org_id'])['org_id'].count().sort_values()"
   ]
  },
  {
   "cell_type": "code",
   "execution_count": 26,
   "metadata": {},
   "outputs": [
    {
     "name": "stdout",
     "output_type": "stream",
     "text": [
      "Pct of records with last session time: 73.5%\n"
     ]
    }
   ],
   "source": [
    "print(\"Pct of records with last session time: \"+\"{:.1%}\".format(takehome_users.last_session_creation_time.count() / len(takehome_users)))"
   ]
  },
  {
   "cell_type": "code",
   "execution_count": 27,
   "metadata": {},
   "outputs": [
    {
     "data": {
      "text/plain": [
       "0    9006\n",
       "1    2994\n",
       "Name: opted_in_to_mailing_list, dtype: int64"
      ]
     },
     "execution_count": 27,
     "metadata": {},
     "output_type": "execute_result"
    }
   ],
   "source": [
    "takehome_users.opted_in_to_mailing_list.value_counts()"
   ]
  },
  {
   "cell_type": "code",
   "execution_count": 28,
   "metadata": {},
   "outputs": [
    {
     "data": {
      "text/plain": [
       "0    10208\n",
       "1     1792\n",
       "Name: enabled_for_marketing_drip, dtype: int64"
      ]
     },
     "execution_count": 28,
     "metadata": {},
     "output_type": "execute_result"
    }
   ],
   "source": [
    "takehome_users.enabled_for_marketing_drip.value_counts()"
   ]
  },
  {
   "cell_type": "markdown",
   "metadata": {},
   "source": [
    "## EDA Notes\n",
    "\n",
    "- Almost 208,000 entries over two years of user activity, last day of 2012-05-31 through 2014-06-06\n",
    "- Steady increase in user activity until end of sample period\n",
    "- Maximum activity was 712 users on 2014-05-21 and declined to 373 users on 2014-06-04\n",
    "- User activity ranged from a single use to 606 daily logins with a mean of 24 logins but a median of 1 login\n",
    "- 52% of users logged in only once, and 26.5% never logged in at all\n",
    "- There are 1,445 users out of 12,000 that can be described as an adopted user\n",
    "- 6,417 users, or 53.5%, were invited to join from another user\n",
    "- Org_Invite is the largest Creation_Source category, double the second tier group\n",
    "- There are 417 Organization ID groups, the largest with 319 users and the smallest with only 2\n",
    "- Last session time is populated for only 73.5% of users\n",
    "- About 1/3rd of users opted in to the mailing list, and less than 1/5th are enabled for marketing drip\n",
    "- There are 1,184 different email domain names, but only six major domains"
   ]
  },
  {
   "cell_type": "markdown",
   "metadata": {},
   "source": [
    "## Define Adopted User\n",
    "A user who has logged into the product on three separate days in at least one seven-day period"
   ]
  },
  {
   "cell_type": "code",
   "execution_count": 29,
   "metadata": {},
   "outputs": [],
   "source": [
    "# Weekly visit counts by user\n",
    "engagement_weekly = takehome_user_engagement.groupby([pd.Grouper(key='time_stamp', freq='W'), 'user_id']).visited.sum().to_frame()"
   ]
  },
  {
   "cell_type": "code",
   "execution_count": 30,
   "metadata": {},
   "outputs": [
    {
     "data": {
      "text/html": [
       "<div>\n",
       "<style scoped>\n",
       "    .dataframe tbody tr th:only-of-type {\n",
       "        vertical-align: middle;\n",
       "    }\n",
       "\n",
       "    .dataframe tbody tr th {\n",
       "        vertical-align: top;\n",
       "    }\n",
       "\n",
       "    .dataframe thead th {\n",
       "        text-align: right;\n",
       "    }\n",
       "</style>\n",
       "<table border=\"1\" class=\"dataframe\">\n",
       "  <thead>\n",
       "    <tr style=\"text-align: right;\">\n",
       "      <th></th>\n",
       "      <th></th>\n",
       "      <th>visited</th>\n",
       "    </tr>\n",
       "    <tr>\n",
       "      <th>time_stamp</th>\n",
       "      <th>user_id</th>\n",
       "      <th></th>\n",
       "    </tr>\n",
       "  </thead>\n",
       "  <tbody>\n",
       "    <tr>\n",
       "      <th>2012-06-10</th>\n",
       "      <th>1693</th>\n",
       "      <td>3</td>\n",
       "    </tr>\n",
       "    <tr>\n",
       "      <th rowspan=\"2\" valign=\"top\">2012-06-17</th>\n",
       "      <th>728</th>\n",
       "      <td>4</td>\n",
       "    </tr>\n",
       "    <tr>\n",
       "      <th>11764</th>\n",
       "      <td>3</td>\n",
       "    </tr>\n",
       "    <tr>\n",
       "      <th rowspan=\"2\" valign=\"top\">2012-06-24</th>\n",
       "      <th>1693</th>\n",
       "      <td>3</td>\n",
       "    </tr>\n",
       "    <tr>\n",
       "      <th>5297</th>\n",
       "      <td>3</td>\n",
       "    </tr>\n",
       "    <tr>\n",
       "      <th>...</th>\n",
       "      <th>...</th>\n",
       "      <td>...</td>\n",
       "    </tr>\n",
       "    <tr>\n",
       "      <th rowspan=\"5\" valign=\"top\">2014-06-08</th>\n",
       "      <th>11573</th>\n",
       "      <td>3</td>\n",
       "    </tr>\n",
       "    <tr>\n",
       "      <th>11688</th>\n",
       "      <td>3</td>\n",
       "    </tr>\n",
       "    <tr>\n",
       "      <th>11806</th>\n",
       "      <td>3</td>\n",
       "    </tr>\n",
       "    <tr>\n",
       "      <th>11895</th>\n",
       "      <td>3</td>\n",
       "    </tr>\n",
       "    <tr>\n",
       "      <th>11924</th>\n",
       "      <td>3</td>\n",
       "    </tr>\n",
       "  </tbody>\n",
       "</table>\n",
       "<p>33859 rows × 1 columns</p>\n",
       "</div>"
      ],
      "text/plain": [
       "                    visited\n",
       "time_stamp user_id         \n",
       "2012-06-10 1693           3\n",
       "2012-06-17 728            4\n",
       "           11764          3\n",
       "2012-06-24 1693           3\n",
       "           5297           3\n",
       "...                     ...\n",
       "2014-06-08 11573          3\n",
       "           11688          3\n",
       "           11806          3\n",
       "           11895          3\n",
       "           11924          3\n",
       "\n",
       "[33859 rows x 1 columns]"
      ]
     },
     "execution_count": 30,
     "metadata": {},
     "output_type": "execute_result"
    }
   ],
   "source": [
    "engagement_weekly[engagement_weekly.visited >= 3]"
   ]
  },
  {
   "cell_type": "code",
   "execution_count": 31,
   "metadata": {},
   "outputs": [],
   "source": [
    "engagement_weekly.reset_index(inplace=True)"
   ]
  },
  {
   "cell_type": "code",
   "execution_count": 32,
   "metadata": {},
   "outputs": [
    {
     "data": {
      "text/plain": [
       "1445"
      ]
     },
     "execution_count": 32,
     "metadata": {},
     "output_type": "execute_result"
    }
   ],
   "source": [
    "engagement_weekly.user_id[engagement_weekly.visited >= 3].nunique()"
   ]
  },
  {
   "cell_type": "code",
   "execution_count": 33,
   "metadata": {},
   "outputs": [],
   "source": [
    "# Three or more visits within a week\n",
    "adopted_users = engagement_weekly[engagement_weekly.visited >= 3].groupby(['user_id'])['visited'].sum().to_frame()"
   ]
  },
  {
   "cell_type": "code",
   "execution_count": 34,
   "metadata": {},
   "outputs": [
    {
     "data": {
      "text/html": [
       "<div>\n",
       "<style scoped>\n",
       "    .dataframe tbody tr th:only-of-type {\n",
       "        vertical-align: middle;\n",
       "    }\n",
       "\n",
       "    .dataframe tbody tr th {\n",
       "        vertical-align: top;\n",
       "    }\n",
       "\n",
       "    .dataframe thead th {\n",
       "        text-align: right;\n",
       "    }\n",
       "</style>\n",
       "<table border=\"1\" class=\"dataframe\">\n",
       "  <thead>\n",
       "    <tr style=\"text-align: right;\">\n",
       "      <th></th>\n",
       "      <th>visited</th>\n",
       "      <th>adopted</th>\n",
       "    </tr>\n",
       "    <tr>\n",
       "      <th>user_id</th>\n",
       "      <th></th>\n",
       "      <th></th>\n",
       "    </tr>\n",
       "  </thead>\n",
       "  <tbody>\n",
       "    <tr>\n",
       "      <th>2</th>\n",
       "      <td>3</td>\n",
       "      <td>1</td>\n",
       "    </tr>\n",
       "    <tr>\n",
       "      <th>10</th>\n",
       "      <td>249</td>\n",
       "      <td>1</td>\n",
       "    </tr>\n",
       "    <tr>\n",
       "      <th>20</th>\n",
       "      <td>3</td>\n",
       "      <td>1</td>\n",
       "    </tr>\n",
       "    <tr>\n",
       "      <th>33</th>\n",
       "      <td>3</td>\n",
       "      <td>1</td>\n",
       "    </tr>\n",
       "    <tr>\n",
       "      <th>42</th>\n",
       "      <td>331</td>\n",
       "      <td>1</td>\n",
       "    </tr>\n",
       "  </tbody>\n",
       "</table>\n",
       "</div>"
      ],
      "text/plain": [
       "         visited  adopted\n",
       "user_id                  \n",
       "2              3        1\n",
       "10           249        1\n",
       "20             3        1\n",
       "33             3        1\n",
       "42           331        1"
      ]
     },
     "execution_count": 34,
     "metadata": {},
     "output_type": "execute_result"
    }
   ],
   "source": [
    "adopted_users['adopted'] = 1\n",
    "adopted_users.head()"
   ]
  },
  {
   "cell_type": "markdown",
   "metadata": {},
   "source": [
    "## Select Features"
   ]
  },
  {
   "cell_type": "code",
   "execution_count": 36,
   "metadata": {},
   "outputs": [],
   "source": [
    "tu_copy = takehome_users.copy()\n",
    "tu_copy.rename(columns = {'object_id':'user_id'}, inplace=True)\n",
    "tu_copy.set_index(['user_id'], inplace=True)"
   ]
  },
  {
   "cell_type": "code",
   "execution_count": 37,
   "metadata": {},
   "outputs": [],
   "source": [
    "# Binary column for invited_by_user_id\n",
    "tu_copy['invited']= tu_copy['invited_by_user_id'].apply(lambda x: 0 if x == 0 else 1)"
   ]
  },
  {
   "cell_type": "code",
   "execution_count": 38,
   "metadata": {},
   "outputs": [],
   "source": [
    "# Add visit count by user\n",
    "tu_copy = tu_copy.join(user_visit_count)"
   ]
  },
  {
   "cell_type": "code",
   "execution_count": 39,
   "metadata": {},
   "outputs": [],
   "source": [
    "# NaN to zero, float to int\n",
    "tu_copy.last_session_creation_time = tu_copy.last_session_creation_time.fillna(0)\n",
    "tu_copy.visited = tu_copy.visited.fillna(0)\n",
    "tu_copy.visited = tu_copy.visited.astype(int)"
   ]
  },
  {
   "cell_type": "code",
   "execution_count": 40,
   "metadata": {},
   "outputs": [],
   "source": [
    "# Add target - adopted\n",
    "tu_copy = tu_copy.join(adopted_users.adopted)"
   ]
  },
  {
   "cell_type": "code",
   "execution_count": 41,
   "metadata": {},
   "outputs": [],
   "source": [
    "tu_copy.adopted = tu_copy.adopted.fillna(0)\n",
    "tu_copy.adopted = tu_copy.adopted.astype(int)"
   ]
  },
  {
   "cell_type": "code",
   "execution_count": 42,
   "metadata": {},
   "outputs": [],
   "source": [
    "# Add email domain\n",
    "tu_copy['domain'] = tu_copy['email'].apply(lambda x: x.split('@')[1])"
   ]
  },
  {
   "cell_type": "code",
   "execution_count": 43,
   "metadata": {},
   "outputs": [
    {
     "data": {
      "text/plain": [
       "1184"
      ]
     },
     "execution_count": 43,
     "metadata": {},
     "output_type": "execute_result"
    }
   ],
   "source": [
    "tu_copy.domain.nunique()"
   ]
  },
  {
   "cell_type": "code",
   "execution_count": 44,
   "metadata": {},
   "outputs": [
    {
     "data": {
      "text/plain": [
       "gmail.com         3562\n",
       "yahoo.com         2447\n",
       "jourrapide.com    1259\n",
       "cuvox.de          1202\n",
       "gustr.com         1179\n",
       "hotmail.com       1165\n",
       "mumdc.com            2\n",
       "qgjbc.com            2\n",
       "Name: domain, dtype: int64"
      ]
     },
     "execution_count": 44,
     "metadata": {},
     "output_type": "execute_result"
    }
   ],
   "source": [
    "tu_copy.domain.value_counts().head(8)"
   ]
  },
  {
   "cell_type": "code",
   "execution_count": 45,
   "metadata": {},
   "outputs": [],
   "source": [
    "# Identify top 6 email domains, plus 'other'\n",
    "domain_list = ['gmail.com', 'yahoo.com', 'jourrapide.com', 'cuvox.de', 'gustr.com', 'hotmail.com']\n",
    "tu_copy['domains'] = tu_copy['domain'].apply(lambda x: x if x in domain_list else 'other')"
   ]
  },
  {
   "cell_type": "code",
   "execution_count": 46,
   "metadata": {},
   "outputs": [
    {
     "data": {
      "text/plain": [
       "Index(['opted_in_to_mailing_list', 'enabled_for_marketing_drip', 'org_id',\n",
       "       'invited', 'visited', 'adopted', 'domains_cuvox.de',\n",
       "       'domains_gmail.com', 'domains_gustr.com', 'domains_hotmail.com',\n",
       "       'domains_jourrapide.com', 'domains_other', 'domains_yahoo.com',\n",
       "       'creation_source_GUEST_INVITE', 'creation_source_ORG_INVITE',\n",
       "       'creation_source_PERSONAL_PROJECTS', 'creation_source_SIGNUP',\n",
       "       'creation_source_SIGNUP_GOOGLE_AUTH'],\n",
       "      dtype='object')"
      ]
     },
     "execution_count": 46,
     "metadata": {},
     "output_type": "execute_result"
    }
   ],
   "source": [
    "# Get dummies for email domain\n",
    "tu_copy = pd.get_dummies(tu_copy, columns=['domains'])\n",
    "\n",
    "# Get dummies for Creation Source\n",
    "tu_copy = pd.get_dummies(tu_copy, columns=['creation_source'])\n",
    "\n",
    "# Drop fields not used\n",
    "tu_final = tu_copy.drop(['creation_time', 'name', 'email', 'last_session_creation_time', 'invited_by_user_id', 'domain'], axis=1)\n",
    "\n",
    "tu_final.columns"
   ]
  },
  {
   "cell_type": "markdown",
   "metadata": {},
   "source": [
    "## Model\n",
    "Logistic Regression for binary classification target: adopted"
   ]
  },
  {
   "cell_type": "code",
   "execution_count": 48,
   "metadata": {},
   "outputs": [],
   "source": [
    "from sklearn.linear_model import LogisticRegression\n",
    "from sklearn.model_selection import train_test_split, cross_val_score, GridSearchCV, KFold\n",
    "from sklearn.metrics import confusion_matrix, classification_report, roc_curve, roc_auc_score, accuracy_score\n",
    "from sklearn.preprocessing import StandardScaler\n",
    "from sklearn.pipeline import Pipeline\n",
    "\n",
    "# Separate X, y, train, test, validate samples\n",
    "y = tu_final.adopted\n",
    "X = tu_final.drop(['adopted'], axis=1)\n",
    "\n",
    "X_train, X_test, y_train, y_test = train_test_split(X, y, test_size = 0.2, random_state=7, stratify=y)\n",
    "X_train, X_valid, y_train, y_valid = train_test_split(X_train, y_train, test_size = 0.1, random_state=7)\n",
    "\n",
    "# Steps, pipeline, scale, fit\n",
    "steps = [('scaler', StandardScaler()), ('logreg', LogisticRegression(random_state = 7))]\n",
    "pipeline = Pipeline(steps)\n",
    "logreg_scaled = pipeline.fit(X_train, y_train)"
   ]
  },
  {
   "cell_type": "code",
   "execution_count": 49,
   "metadata": {},
   "outputs": [
    {
     "name": "stdout",
     "output_type": "stream",
     "text": [
      "The testing accuracy is 98.7%\n"
     ]
    }
   ],
   "source": [
    "# Accuracy on testing\n",
    "print(\"The testing accuracy is \"+\"{:.1%}\".format(logreg_scaled.score(X_test, y_test)))"
   ]
  },
  {
   "cell_type": "code",
   "execution_count": 50,
   "metadata": {},
   "outputs": [
    {
     "name": "stdout",
     "output_type": "stream",
     "text": [
      "[0.98291667 0.98583333 0.98708333 0.98333333 0.97708333]\n",
      "Average 5-Fold CV Score: 0.98325\n"
     ]
    }
   ],
   "source": [
    "# 5-fold cross-validation scores\n",
    "cv_scores = cross_val_score(pipeline, X, y, cv=5)\n",
    "print(cv_scores)\n",
    "print(\"Average 5-Fold CV Score: {}\".format(np.mean(cv_scores)))"
   ]
  },
  {
   "cell_type": "markdown",
   "metadata": {},
   "source": [
    "The model does not appear to overfit due to the low variation in cross-validation."
   ]
  },
  {
   "cell_type": "code",
   "execution_count": 51,
   "metadata": {},
   "outputs": [
    {
     "name": "stdout",
     "output_type": "stream",
     "text": [
      "                                        coef\n",
      "Creation_Source_Personal_Projects  -1.275431\n",
      "Domains_Jourrapide.Com             -1.098972\n",
      "Creation_Source_Signup_Google_Auth -1.093591\n",
      "Invited                            -0.856672\n",
      "Domains_Yahoo.Com                  -0.599938\n",
      "Domains_Gustr.Com                  -0.529565\n",
      "Domains_Cuvox.De                   -0.513479\n",
      "Visited                             0.500337\n",
      "Creation_Source_Signup             -0.465908\n",
      "Creation_Source_Org_Invite         -0.454423\n",
      "Domains_Gmail.Com                  -0.414916\n",
      "Creation_Source_Guest_Invite       -0.402249\n",
      "Domains_Hotmail.Com                -0.381373\n",
      "Domains_Other                      -0.153358\n",
      "Opted_In_To_Mailing_List            0.108395\n",
      "Enabled_For_Marketing_Drip          0.086732\n",
      "Org_Id                             -0.000351\n"
     ]
    },
    {
     "name": "stderr",
     "output_type": "stream",
     "text": [
      "C:\\Users\\opa\\miniconda3\\lib\\site-packages\\sklearn\\linear_model\\_logistic.py:762: ConvergenceWarning: lbfgs failed to converge (status=1):\n",
      "STOP: TOTAL NO. of ITERATIONS REACHED LIMIT.\n",
      "\n",
      "Increase the number of iterations (max_iter) or scale the data as shown in:\n",
      "    https://scikit-learn.org/stable/modules/preprocessing.html\n",
      "Please also refer to the documentation for alternative solver options:\n",
      "    https://scikit-learn.org/stable/modules/linear_model.html#logistic-regression\n",
      "  n_iter_i = _check_optimize_result(\n"
     ]
    }
   ],
   "source": [
    "features = list(X)\n",
    "\n",
    "# Check coefficients\n",
    "logreg = LogisticRegression(random_state = 7)\n",
    "scaler = StandardScaler()\n",
    "X_train_scaled = scaler.fit_transform(X_train)\n",
    "logreg.fit(X_train,y_train)\n",
    "std_coef = logreg.coef_.reshape(-1,1).tolist()\n",
    "feature_names = [feature.title() for feature in features]\n",
    "coef_df = pd.DataFrame(std_coef,index=feature_names,columns=['coef'])\n",
    "coef_df['abs'] = coef_df['coef'].abs()\n",
    "coef_df = coef_df.sort_values(by='abs',ascending=False).drop('abs',axis=1)\n",
    "pd.set_option('display.max_rows', None)\n",
    "print(coef_df)"
   ]
  },
  {
   "cell_type": "markdown",
   "metadata": {},
   "source": [
    "The accuracy is 98.7% and the model uses some email domains and creation sources as top features.\n",
    "\n",
    "Specifically, user accounts emailing from Jourrapide.com and created through Google_Auth or Personal Projects are most likely to become adopted users. Additional benefit comes if a new user was invited by an existing user."
   ]
  },
  {
   "cell_type": "code",
   "execution_count": null,
   "metadata": {},
   "outputs": [],
   "source": []
  }
 ],
 "metadata": {
  "kernelspec": {
   "display_name": "Python 3",
   "language": "python",
   "name": "python3"
  },
  "language_info": {
   "codemirror_mode": {
    "name": "ipython",
    "version": 3
   },
   "file_extension": ".py",
   "mimetype": "text/x-python",
   "name": "python",
   "nbconvert_exporter": "python",
   "pygments_lexer": "ipython3",
   "version": "3.8.3"
  }
 },
 "nbformat": 4,
 "nbformat_minor": 4
}
